{
 "cells": [
  {
   "cell_type": "code",
   "execution_count": 1,
   "id": "5111013f-6c1f-42a8-ac8a-2cb55a910ada",
   "metadata": {},
   "outputs": [
    {
     "name": "stdout",
     "output_type": "stream",
     "text": [
      "Python version: 3.14.0 (tags/v3.14.0:ebf955d, Oct  7 2025, 10:15:03) [MSC v.1944 64 bit (AMD64)]\n",
      "Pandas: 2.3.3\n",
      "NumPy: 2.3.4\n",
      "Matplotlib: 3.10.7\n"
     ]
    }
   ],
   "source": [
    "import sys\n",
    "print(\"Python version:\", sys.version)\n",
    "\n",
    "import pandas as pd\n",
    "import numpy as np\n",
    "import matplotlib\n",
    "print(\"Pandas:\", pd.__version__)\n",
    "print(\"NumPy:\", np.__version__)\n",
    "print(\"Matplotlib:\", matplotlib.__version__)\n"
   ]
  },
  {
   "cell_type": "code",
   "execution_count": 3,
   "id": "ac3a259f-3c92-4356-862a-0fa0dda3a3a8",
   "metadata": {},
   "outputs": [
    {
     "name": "stdout",
     "output_type": "stream",
     "text": [
      "Scikit-learn: 1.7.2\n",
      "Seaborn: 0.13.2\n"
     ]
    }
   ],
   "source": [
    "import sklearn\n",
    "import seaborn as sns\n",
    "print(\"Scikit-learn:\", sklearn.__version__)\n",
    "print(\"Seaborn:\", sns.__version__)\n"
   ]
  },
  {
   "cell_type": "code",
   "execution_count": 7,
   "id": "85fbfb60-675a-4ce6-a202-be983f4e5e92",
   "metadata": {},
   "outputs": [],
   "source": [
    "# Machine Learning Workflow\n",
    "\n",
    "#1. Data Collection → Get the dataset (CSV, API, database)\n",
    "#2. Data Cleaning → Handle missing values, duplicates, outliers\n",
    "#3. Data Splitting → Train/Test split (usually 80/20)\n",
    "#4. Model Training → Fit model (Linear Regression, Decision Tree, etc.)\n",
    "#5. Evaluation → Measure performance (accuracy, MSE, etc.)\n",
    "#6. Prediction → Use trained model on new data\n",
    "#7. Visualization → Show results with plots\n",
    "#"
   ]
  },
  {
   "cell_type": "code",
   "execution_count": 8,
   "id": "db862ec3-8083-4a74-8c54-afa0979326ea",
   "metadata": {},
   "outputs": [
    {
     "name": "stdout",
     "output_type": "stream",
     "text": [
      "Prediction for input 6: 12.0\n"
     ]
    }
   ],
   "source": [
    "from sklearn.linear_model import LinearRegression\n",
    "import numpy as np\n",
    "\n",
    "# Simple dataset\n",
    "X = np.array([[1], [2], [3], [4], [5]])  # features\n",
    "y = np.array([2, 4, 6, 8, 10])           # labels\n",
    "\n",
    "# Create and train model\n",
    "model = LinearRegression()\n",
    "model.fit(X, y)\n",
    "\n",
    "# Predict new values\n",
    "predictions = model.predict([[6]])\n",
    "print(\"Prediction for input 6:\", predictions[0])\n"
   ]
  },
  {
   "cell_type": "code",
   "execution_count": null,
   "id": "0b7860a2-3041-4fb0-a063-17abe4257260",
   "metadata": {},
   "outputs": [],
   "source": []
  }
 ],
 "metadata": {
  "kernelspec": {
   "display_name": "Python 3 (ipykernel)",
   "language": "python",
   "name": "python3"
  },
  "language_info": {
   "codemirror_mode": {
    "name": "ipython",
    "version": 3
   },
   "file_extension": ".py",
   "mimetype": "text/x-python",
   "name": "python",
   "nbconvert_exporter": "python",
   "pygments_lexer": "ipython3",
   "version": "3.14.0"
  }
 },
 "nbformat": 4,
 "nbformat_minor": 5
}
