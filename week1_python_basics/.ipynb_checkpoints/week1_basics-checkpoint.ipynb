{
 "cells": [
  {
   "cell_type": "code",
   "execution_count": 7,
   "id": "f744d237-61cb-4cc4-8b23-c3e0376d7794",
   "metadata": {},
   "outputs": [
    {
     "name": "stdout",
     "output_type": "stream",
     "text": [
      "Sum: 15\n",
      "Product: 50\n",
      "banana\n",
      "Anan\n",
      "[2 4 6 8]\n",
      "           Score\n",
      "count   3.000000\n",
      "mean   84.333333\n",
      "std     6.027714\n",
      "min    78.000000\n",
      "25%    81.500000\n",
      "50%    85.000000\n",
      "75%    87.500000\n",
      "max    90.000000\n"
     ]
    }
   ],
   "source": [
    "# Variables and basic operations\n",
    "x = 10\n",
    "y = 5\n",
    "print(\"Sum:\", x + y)\n",
    "print(\"Product:\", x * y)\n",
    "\n",
    "# Lists\n",
    "fruits = ['apple', 'banana', 'cherry']\n",
    "print(fruits[1])  # banana\n",
    "\n",
    "# Dictionaries\n",
    "person = {\"name\": \"Anan\", \"age\": 35}\n",
    "print(person[\"name\"])\n",
    "\n",
    "import numpy as np\n",
    "import pandas as pd\n",
    "\n",
    "# NumPy array\n",
    "arr = np.array([1, 2, 3, 4])\n",
    "print(arr * 2)\n",
    "\n",
    "# Pandas DataFrame\n",
    "data = pd.DataFrame({\n",
    "    'Name': ['Alice', 'Bob', 'Charlie'],\n",
    "    'Score': [85, 90, 78]\n",
    "})\n",
    "print(data.describe())"
   ]
  },
  {
   "cell_type": "code",
   "execution_count": 1,
   "id": "80857cb5-6551-4061-9081-88154731f07e",
   "metadata": {},
   "outputs": [
    {
     "name": "stdout",
     "output_type": "stream",
     "text": [
      "[ 2  4  6  8 10]\n",
      "[2 3 4]\n"
     ]
    }
   ],
   "source": [
    "import numpy as np\n",
    "arr = np.array([1,2,3,4,5])\n",
    "print(arr * 2)\n",
    "print(arr[1:4])\n"
   ]
  },
  {
   "cell_type": "code",
   "execution_count": 3,
   "id": "7f83a1c7-42c5-4f74-b140-e72a82a78d9b",
   "metadata": {},
   "outputs": [
    {
     "name": "stdout",
     "output_type": "stream",
     "text": [
      "    Name  Score\n",
      "0  Alice     85\n",
      "1    Bob     90\n",
      "           Score\n",
      "count   2.000000\n",
      "mean   87.500000\n",
      "std     3.535534\n",
      "min    85.000000\n",
      "25%    86.250000\n",
      "50%    87.500000\n",
      "75%    88.750000\n",
      "max    90.000000\n"
     ]
    }
   ],
   "source": [
    "import pandas as pd\n",
    "data = pd.DataFrame({'Name':['Alice','Bob'], 'Score':[85,90]})\n",
    "print(data)\n",
    "print(data.describe())\n"
   ]
  },
  {
   "cell_type": "code",
   "execution_count": 19,
   "id": "168ab23f-a355-4f60-911b-337b5dd3a35e",
   "metadata": {},
   "outputs": [
    {
     "name": "stdout",
     "output_type": "stream",
     "text": [
      "  student_id  hours_studied  sleep_hours  attendance_percent  previous_scores  \\\n",
      "0       S001            8.0          8.8                72.1               45   \n",
      "1       S002            1.3          8.6                60.7               55   \n",
      "2       S003            4.0          8.2                73.7               86   \n",
      "3       S004            3.5          4.8                95.1               66   \n",
      "4       S005            9.1          6.4                89.8               71   \n",
      "\n",
      "   exam_score  \n",
      "0        30.2  \n",
      "1        25.0  \n",
      "2        35.8  \n",
      "3        34.0  \n",
      "4        40.3  \n",
      "       hours_studied  sleep_hours  attendance_percent  previous_scores  \\\n",
      "count     200.000000   200.000000          200.000000       200.000000   \n",
      "mean        6.325500     6.622000           74.830000        66.800000   \n",
      "std         3.227317     1.497138           14.249905        15.663869   \n",
      "min         1.000000     4.000000           50.300000        40.000000   \n",
      "25%         3.500000     5.300000           62.200000        54.000000   \n",
      "50%         6.150000     6.700000           75.250000        67.500000   \n",
      "75%         9.000000     8.025000           87.425000        80.000000   \n",
      "max        12.000000     9.000000          100.000000        95.000000   \n",
      "\n",
      "       exam_score  \n",
      "count  200.000000  \n",
      "mean    33.955000  \n",
      "std      6.789548  \n",
      "min     17.100000  \n",
      "25%     29.500000  \n",
      "50%     34.050000  \n",
      "75%     38.750000  \n",
      "max     51.300000  \n",
      "<class 'pandas.core.frame.DataFrame'>\n",
      "RangeIndex: 200 entries, 0 to 199\n",
      "Data columns (total 6 columns):\n",
      " #   Column              Non-Null Count  Dtype  \n",
      "---  ------              --------------  -----  \n",
      " 0   student_id          200 non-null    object \n",
      " 1   hours_studied       200 non-null    float64\n",
      " 2   sleep_hours         200 non-null    float64\n",
      " 3   attendance_percent  200 non-null    float64\n",
      " 4   previous_scores     200 non-null    int64  \n",
      " 5   exam_score          200 non-null    float64\n",
      "dtypes: float64(4), int64(1), object(1)\n",
      "memory usage: 9.5+ KB\n",
      "None\n",
      "student_id            0\n",
      "hours_studied         0\n",
      "sleep_hours           0\n",
      "attendance_percent    0\n",
      "previous_scores       0\n",
      "exam_score            0\n",
      "dtype: int64\n",
      "   student_id  previous_scores\n",
      "2        S003               86\n",
      "6        S007               88\n",
      "8        S009               84\n",
      "10       S011               81\n",
      "11       S012               85\n",
      "    student_id  bonus  hours_studied  sleep_hours  attendance_percent  \\\n",
      "0         S001   0.45            8.0          8.8                72.1   \n",
      "1         S002   0.55            1.3          8.6                60.7   \n",
      "2         S003   0.86            4.0          8.2                73.7   \n",
      "3         S004   0.66            3.5          4.8                95.1   \n",
      "4         S005   0.71            9.1          6.4                89.8   \n",
      "..         ...    ...            ...          ...                 ...   \n",
      "195       S196   0.87           10.5          5.4                94.0   \n",
      "196       S197   0.92            7.1          6.1                85.1   \n",
      "197       S198   0.76            1.6          6.9                63.8   \n",
      "198       S199   0.58           12.0          7.3                50.5   \n",
      "199       S200   0.68           10.2          6.3                97.4   \n",
      "\n",
      "     previous_scores  exam_score  \n",
      "0                 45        30.2  \n",
      "1                 55        25.0  \n",
      "2                 86        35.8  \n",
      "3                 66        34.0  \n",
      "4                 71        40.3  \n",
      "..               ...         ...  \n",
      "195               87        42.7  \n",
      "196               92        40.4  \n",
      "197               76        28.2  \n",
      "198               58        42.0  \n",
      "199               68        37.8  \n",
      "\n",
      "[200 rows x 7 columns]\n"
     ]
    },
    {
     "data": {
      "image/png": "[encoded data removed]",
      "text/plain": [
       "<Figure size 640x480 with 1 Axes>"
      ]
     },
     "metadata": {},
     "output_type": "display_data"
    }
   ],
   "source": [
    "import pandas as pd\n",
    "data = pd.read_csv(\"C:\\\\Users\\\\karth\\\\repo\\\\ml-mini-projects\\\\datasets\\\\student_exam_scores.csv\")\n",
    "print(data.head())\n",
    "print(data.describe())\n",
    "print(data.info())\n",
    "missing_counts = data.isnull().sum()\n",
    "print(missing_counts)\n",
    "high_score = data[data['previous_scores'] > 80]\n",
    "\n",
    "print(high_score[['student_id','previous_scores']].head(5))\n",
    "\n",
    "data.insert(loc=1, column='bonus', value=data['previous_scores'] * .01)\n",
    "\n",
    "print(data)\n",
    "\n",
    "\n",
    "\n"
   ]
  },
  {
   "cell_type": "code",
   "execution_count": 23,
   "id": "9977f69b-2594-4209-af0e-54194c529f3b",
   "metadata": {},
   "outputs": [
    {
     "data": {
      "image/png": "[encoded data removed]",
      "text/plain": [
       "<Figure size 640x480 with 1 Axes>"
      ]
     },
     "metadata": {},
     "output_type": "display_data"
    }
   ],
   "source": [
    "\n",
    "import matplotlib.pyplot as plt\n",
    "plt.bar(data['student_id'], data['previous_scores'])\n",
    "plt.show()"
   ]
  },
  {
   "cell_type": "code",
   "execution_count": null,
   "id": "c9de1008-dcee-4b59-9ff1-f256cf5f02dd",
   "metadata": {},
   "outputs": [],
   "source": []
  }
 ],
 "metadata": {
  "kernelspec": {
   "display_name": "Python 3 (ipykernel)",
   "language": "python",
   "name": "python3"
  },
  "language_info": {
   "codemirror_mode": {
    "name": "ipython",
    "version": 3
   },
   "file_extension": ".py",
   "mimetype": "text/x-python",
   "name": "python",
   "nbconvert_exporter": "python",
   "pygments_lexer": "ipython3",
   "version": "3.14.0"
  }
 },
 "nbformat": 4,
 "nbformat_minor": 5
}
