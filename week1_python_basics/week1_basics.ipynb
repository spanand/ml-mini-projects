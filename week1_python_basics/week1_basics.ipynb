{
 "cells": [
  {
   "cell_type": "code",
   "execution_count": 7,
   "id": "f744d237-61cb-4cc4-8b23-c3e0376d7794",
   "metadata": {},
   "outputs": [
    {
     "name": "stdout",
     "output_type": "stream",
     "text": [
      "Sum: 15\n",
      "Product: 50\n",
      "banana\n",
      "Anan\n",
      "[2 4 6 8]\n",
      "           Score\n",
      "count   3.000000\n",
      "mean   84.333333\n",
      "std     6.027714\n",
      "min    78.000000\n",
      "25%    81.500000\n",
      "50%    85.000000\n",
      "75%    87.500000\n",
      "max    90.000000\n"
     ]
    }
   ],
   "source": [
    "# Variables and basic operations\n",
    "x = 10\n",
    "y = 5\n",
    "print(\"Sum:\", x + y)\n",
    "print(\"Product:\", x * y)\n",
    "\n",
    "# Lists\n",
    "fruits = ['apple', 'banana', 'cherry']\n",
    "print(fruits[1])  # banana\n",
    "\n",
    "# Dictionaries\n",
    "person = {\"name\": \"Anan\", \"age\": 35}\n",
    "print(person[\"name\"])\n",
    "\n",
    "import numpy as np\n",
    "import pandas as pd\n",
    "\n",
    "# NumPy array\n",
    "arr = np.array([1, 2, 3, 4])\n",
    "print(arr * 2)\n",
    "\n",
    "# Pandas DataFrame\n",
    "data = pd.DataFrame({\n",
    "    'Name': ['Alice', 'Bob', 'Charlie'],\n",
    "    'Score': [85, 90, 78]\n",
    "})\n",
    "print(data.describe())"
   ]
  },
  {
   "cell_type": "code",
   "execution_count": null,
   "id": "80857cb5-6551-4061-9081-88154731f07e",
   "metadata": {},
   "outputs": [],
   "source": []
  },
  {
   "cell_type": "code",
   "execution_count": null,
   "id": "7f83a1c7-42c5-4f74-b140-e72a82a78d9b",
   "metadata": {},
   "outputs": [],
   "source": []
  }
 ],
 "metadata": {
  "kernelspec": {
   "display_name": "Python 3 (ipykernel)",
   "language": "python",
   "name": "python3"
  },
  "language_info": {
   "codemirror_mode": {
    "name": "ipython",
    "version": 3
   },
   "file_extension": ".py",
   "mimetype": "text/x-python",
   "name": "python",
   "nbconvert_exporter": "python",
   "pygments_lexer": "ipython3",
   "version": "3.14.0"
  }
 },
 "nbformat": 4,
 "nbformat_minor": 5
}
