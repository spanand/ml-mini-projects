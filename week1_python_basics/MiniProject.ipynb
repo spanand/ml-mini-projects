{
 "cells": [
  {
   "cell_type": "code",
   "execution_count": 19,
   "id": "48f7bfef-85f9-47b7-9a87-b8420a0bd926",
   "metadata": {},
   "outputs": [
    {
     "name": "stdout",
     "output_type": "stream",
     "text": [
      "0                                Apples\n",
      "1                    Apples, applesauce\n",
      "2                Apples, ready-to-drink\n",
      "3            Apples, frozen concentrate\n",
      "4                              Apricots\n",
      "5             Apricots, packed in juice\n",
      "6    Apricots, packed in syrup or water\n",
      "7                              Apricots\n",
      "8                               Bananas\n",
      "9                        Berries, mixed\n",
      "Name: Fruit, dtype: object 0    1.8541\n",
      "1    1.1705\n",
      "2    0.8699\n",
      "3    0.6086\n",
      "4    3.6162\n",
      "5    1.8645\n",
      "6    2.2362\n",
      "7    7.6611\n",
      "8    0.5971\n",
      "9    4.2673\n",
      "Name: RetailPrice, dtype: float64\n"
     ]
    },
    {
     "data": {
      "image/png": "[encoded data removed]",
      "text/plain": [
       "<Figure size 640x480 with 1 Axes>"
      ]
     },
     "metadata": {},
     "output_type": "display_data"
    }
   ],
   "source": [
    "import pandas as pd\n",
    "data =pd.read_csv(\"C:\\\\Users\\\\karth\\\\repo\\\\ml-mini-projects\\\\datasets\\\\Fruit Prices 2022.csv\")\n",
    "\n",
    "data = data.head(10)\n",
    "\n",
    "#print(data.info())\n",
    "#print(data.describe())\n",
    "data['RetailPrice'] = data['RetailPrice'].fillna(0)\n",
    "print(data[\"Fruit\"], data[\"RetailPrice\"])\n",
    "data = data.drop_duplicates()\n",
    "\n",
    "fruit_map = {\n",
    "    'Apples': 'Apples',\n",
    "    'Apples, applesauce': 'Apples',\n",
    "    'Apples, ready-to-drink': 'Apples',\n",
    "    'Apples, frozen concentrate': 'Apples',\n",
    "    'Apricots': 'Apricots',\n",
    "    'Apricots, packed in juice': 'Apricots',\n",
    "    'Apricots, packed in syrup or water': 'Apricots',\n",
    "    'Bananas': 'Bananas',\n",
    "    'Berries, mixed': 'Berries'\n",
    "}\n",
    "\n",
    "# Apply mapping\n",
    "data['Fruit_Simple'] = data['Fruit'].map(fruit_map)\n",
    "\n",
    "\n",
    "import matplotlib.pyplot as plt\n",
    "\n",
    "plt.bar(data['Fruit_Simple'], data['RetailPrice'])\n",
    "plt.title(\"Fruit by Retail Price\")\n",
    "plt.xlabel(\"Fruit\")\n",
    "plt.ylabel(\"RetailPrice\")\n",
    "plt.show()\n"
   ]
  },
  {
   "cell_type": "code",
   "execution_count": 21,
   "id": "a221fcce-4435-454e-9ce7-9b1cbfdd0897",
   "metadata": {},
   "outputs": [],
   "source": [
    "#In this mini project, I loaded a dataset, explored it, handled missing values, and visualized key metrics. The Retail price of the Apricot has increased.\n",
    "    #While Banana was less"
   ]
  },
  {
   "cell_type": "code",
   "execution_count": null,
   "id": "1e1d3c0e-6c0b-4476-a8dd-3998c55efbb4",
   "metadata": {},
   "outputs": [],
   "source": []
  }
 ],
 "metadata": {
  "kernelspec": {
   "display_name": "Python 3 (ipykernel)",
   "language": "python",
   "name": "python3"
  },
  "language_info": {
   "codemirror_mode": {
    "name": "ipython",
    "version": 3
   },
   "file_extension": ".py",
   "mimetype": "text/x-python",
   "name": "python",
   "nbconvert_exporter": "python",
   "pygments_lexer": "ipython3",
   "version": "3.14.0"
  }
 },
 "nbformat": 4,
 "nbformat_minor": 5
}
